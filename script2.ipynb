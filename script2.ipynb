{
 "cells": [
  {
   "cell_type": "code",
   "execution_count": 23,
   "metadata": {},
   "outputs": [],
   "source": [
    "import scipy.io as sio\n",
    "data = sio.loadmat('../simulation.mat')\n",
    "\n",
    "RIRs_raw = data['RIRs']\n",
    "\n",
    "\n",
    "locations1 = data['locations']\n",
    "\n",
    "import numpy as np\n",
    "from sklearn.model_selection import LeaveOneOut\n",
    "from sklearn.neural_network import MLPRegressor\n",
    "from sklearn.metrics import mean_squared_error\n",
    "import math\n",
    "from datetime import datetime\n",
    "\n",
    "# Define the dimensions of the target matrix\n",
    "num_rows = 132300\n",
    "num_columns = 150\n",
    "\n",
    "# Reshape the original vector into the target matrix\n",
    "RIRs_raw = RIRs_raw[:num_rows * num_columns].reshape(num_rows, num_columns)\n",
    "\n",
    "num_rows = 150\n",
    "num_columns = 3\n",
    "\n",
    "locations1 = locations1[:num_rows * num_columns].reshape(num_rows, num_columns)\n",
    "\n",
    "\n",
    "def calculate_snr(signal, noise):\n",
    "    \"\"\"\n",
    "    Calculate the Signal-to-Noise Ratio (SNR)\n",
    "    :param signal: The original signal (actual RIR).\n",
    "    :param noise: The noise (difference between actual and predicted RIR).\n",
    "    :return: SNR in decibels.\n",
    "    \"\"\"\n",
    "    signal_power = np.mean(signal ** 2)\n",
    "    noise_power = np.mean(noise ** 2)\n",
    "    snr = 10 * np.log10(signal_power / noise_power)\n",
    "    return snr\n",
    "\n",
    "#Algorithm 1\n",
    "\n",
    "start = datetime.now()\n",
    "# We Can Replace MLPRegressor with an appropriate regression model\n",
    "\n",
    "# Example data (replace with actual data)\n",
    "RIRs = np.array(RIRs_raw)  # 20 RIRs, each with 44.1*3k time samples\n",
    "locations = np.array(locations1)  # Corresponding 3D coordinates\n",
    "RIRs = np.delete(RIRs, 22, axis=1)\n",
    "RIRs = np.transpose(RIRs)\n",
    "locations = np.delete(locations, 22, axis=0)\n",
    "# Leave-One-Out Cross-Validation\n",
    "loo = LeaveOneOut()\n",
    "losses = []\n",
    "\n",
    "for train_index, test_index in loo.split(RIRs):\n",
    "    # print(train_index,\"\\n-----------------------------------\")\n",
    "    # print(test_index,\"\\n-----------------------------------\")\n",
    "\n",
    "    X_train, X_test = locations[train_index], locations[test_index]\n",
    "    y_train, y_test = RIRs[train_index], RIRs[test_index]\n",
    "    \n",
    "    # print(X_train,\"\\n-----------------------------------\")\n",
    "    # print(X_test,\"\\n-----------------------------------\")\n",
    "    # print(y_train,\"\\n-----------------------------------\")\n",
    "    # print(y_test,\"\\n-----------------------------------\")\n",
    "\n",
    "    # Train the model\n",
    "    model = MLPRegressor(hidden_layer_sizes=(50, 120, 10), activation='relu', alpha=0.2, learning_rate_init=0.00001, max_iter=10000000)\n",
    "    model.fit(X_train, y_train)\n",
    "\n",
    "    # print(model,\"\\n-----------------------------------\")\n",
    "    # Validate the model\n",
    "    # Ensure X_test is reshaped correctly if it is a single RIR\n",
    "    X_test_reshaped = X_test.reshape(1, -1) if X_test.ndim == 1 else X_test\n",
    "    # print(X_test_reshaped,\"\\n-----------------------------------\")\n",
    "\n",
    "    predicted_RIR = model.predict(X_test_reshaped)\n",
    "    \n",
    "    # Calculate and store the loss\n",
    "    loss = mean_squared_error(y_test, predicted_RIR)\n",
    "    losses.append(loss)\n",
    "    SNR = calculate_snr(y_test, (y_test-predicted_RIR))\n",
    "    print(\"SNR now is \", SNR)\n",
    "    # print(loss,\"\\n-----------------------------------\")\n",
    "\n",
    "    \n",
    "# print(losses,\"\\n-----------------------------------\")\n",
    "# Calculate average loss across all cross-validation iterations\n",
    "average_loss = np.mean(losses)\n",
    "print(f\"Average Loss for AL1 : {average_loss}\")\n",
    "\n",
    "# Predict the RIR at a new location (x1, y1, z1)\n",
    "new_location = np.array(locations1[22])\n",
    "new_location = new_location.reshape(1, -1) if new_location.ndim == 1 else new_location\n",
    "predicted_RIR = model.predict(new_location)\n",
    "# print(new_location,\"\\n-----------------------------------\")\n",
    "# print(predicted_RIR,\"\\n-----------------------------------\")\n",
    "\n",
    "# The predicted_RIR_at_new_location is the RIR in the time domain at (x1, y1, z1)\n",
    "noise = RIRs_raw[:, 22]-predicted_RIR\n",
    "absolute_error1 = np.linalg.norm(noise)\n",
    "SNR1 = calculate_snr(RIRs_raw[:, 22], noise)\n",
    "print(\"The absolute error of AL1 in the predicted signal is =\", absolute_error1)\n",
    "print(\"The SNR of the predicted signal in AL1 is =\", SNR1)\n",
    "\n",
    "end = datetime.now()\n",
    "\n",
    "print(\"Algorithm 1 needed\",(end - start)/60, \"mins to complete.\")\n",
    "\n",
    "with open('results.txt', 'a') as f:\n",
    "    f.write(f\"The absolute error of AL1 in the predicted signal is = {absolute_error1} \\nThe SNR of the predicted signal in AL1 is = {SNR1}\")"
   ]
  },
  {
   "cell_type": "code",
   "execution_count": 9,
   "metadata": {},
   "outputs": [
    {
     "name": "stdout",
     "output_type": "stream",
     "text": [
      "[2.18886212 0.41587333 0.44788202]\n"
     ]
    }
   ],
   "source": [
    "print(locations1[22])"
   ]
  },
  {
   "cell_type": "code",
   "execution_count": 18,
   "metadata": {},
   "outputs": [
    {
     "name": "stdout",
     "output_type": "stream",
     "text": [
      "[[0.02686126 1.80651146 1.16031358]]\n"
     ]
    }
   ],
   "source": [
    "print(X_test_reshaped)"
   ]
  },
  {
   "cell_type": "code",
   "execution_count": 21,
   "metadata": {},
   "outputs": [
    {
     "name": "stdout",
     "output_type": "stream",
     "text": [
      "The absolute error of AL1 in the predicted signal is = 1.675648386595957\n",
      "The SNR of the predicted signal in AL1 is = -262.9364447557923\n",
      "Algorithm 1 needed 0:00:20.807845 mins to complete.\n"
     ]
    }
   ],
   "source": [
    "# Predict the RIR at a new location (x1, y1, z1)\n",
    "new_location = np.array(locations1[22])\n",
    "new_location = new_location.reshape(1, -1) if new_location.ndim == 1 else new_location\n",
    "predicted_RIR = model.predict(new_location)\n",
    "# print(new_location,\"\\n-----------------------------------\")\n",
    "# print(predicted_RIR,\"\\n-----------------------------------\")\n",
    "\n",
    "# The predicted_RIR_at_new_location is the RIR in the time domain at (x1, y1, z1)\n",
    "noise = RIRs_raw[:,22]-predicted_RIR\n",
    "absolute_error1 = np.linalg.norm(noise)\n",
    "SNR1 = calculate_snr(RIRs_raw[22], noise)\n",
    "print(\"The absolute error of AL1 in the predicted signal is =\", absolute_error1)\n",
    "print(\"The SNR of the predicted signal in AL1 is =\", SNR1)\n",
    "\n",
    "end = datetime.now()\n",
    "\n",
    "print(\"Algorithm 1 needed\",(end - start)/60, \"mins to complete.\")\n",
    "\n",
    "with open('results.txt', 'a') as f:\n",
    "    f.write(f\"The absolute error of AL1 in the predicted signal is = {absolute_error1} \\nThe SNR of the predicted signal in AL1 is = {SNR1}\")"
   ]
  },
  {
   "cell_type": "code",
   "execution_count": 20,
   "metadata": {},
   "outputs": [
    {
     "name": "stdout",
     "output_type": "stream",
     "text": [
      "(1, 132300)\n"
     ]
    }
   ],
   "source": [
    "print(predicted_RIR.shape)"
   ]
  },
  {
   "cell_type": "code",
   "execution_count": null,
   "metadata": {},
   "outputs": [],
   "source": []
  }
 ],
 "metadata": {
  "kernelspec": {
   "display_name": "Python 3",
   "language": "python",
   "name": "python3"
  },
  "language_info": {
   "codemirror_mode": {
    "name": "ipython",
    "version": 3
   },
   "file_extension": ".py",
   "mimetype": "text/x-python",
   "name": "python",
   "nbconvert_exporter": "python",
   "pygments_lexer": "ipython3",
   "version": "3.9.6"
  }
 },
 "nbformat": 4,
 "nbformat_minor": 2
}
